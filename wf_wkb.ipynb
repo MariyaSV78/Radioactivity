{
 "cells": [
  {
   "cell_type": "markdown",
   "id": "a8f8e8ee",
   "metadata": {},
   "source": [
    "For potentiel \n",
    "$$ V_G(r) = \n",
    "\n",
    "\\begin{cases}\n",
    "V_m, &  r \\le R, \\\\\n",
    "\\frac{2 (Z - 2)e^2}{r} ,  & r > R. \\tag{8}\n",
    "\\end{cases}\n",
    "$$\n",
    "\n",
    "\n",
    "(r)= Aeikr+Be ikr r<r1\n",
    " (r) C\n",
    " q(r)\n",
    " exp q(r)dr + D\n",
    " q(r)\n",
    " exp q(r)dr r1 r r2\n",
    " (r)= Feikr\n",
    "\n",
    "1. Region I (nucleus): $r < r_1:$  \n",
    "$$\\psi_n(z) = Ae^{ikr} + Be^{-ikz} $$\n",
    "\n",
    "2. Region II (barrier): $0 r_1 <= r <= r_2 $\n",
    "$$\\psi_b(z) = \\frac{C'}{\\sqrt{q(r)}}\\exp{\\left(- \\int q(r) dr\\right)} + \\frac{D'}{\\sqrt{q(r)}}\\exp{- \\int q(r) dr} $$\n",
    "\n",
    "3. Region III (libre): $r \\gg r_2:$\n",
    "$$\\psi_t(z) = Fe^{ikz} $$\n",
    "\n",
    "where $ k = \\frac{\\sqrt{2mE}}{\\hbar} $ and $q(r) = \\frac{\\sqrt{2m(V(r) - E)}}{\\hbar}.$"
   ]
  }
 ],
 "metadata": {
  "language_info": {
   "name": "python"
  }
 },
 "nbformat": 4,
 "nbformat_minor": 5
}
